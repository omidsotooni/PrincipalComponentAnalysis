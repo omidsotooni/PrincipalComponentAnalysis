{
  "nbformat": 4,
  "nbformat_minor": 0,
  "metadata": {
    "colab": {
      "name": "TheExampleOfPCA.ipynb",
      "provenance": [],
      "toc_visible": true,
      "collapsed_sections": []
    },
    "kernelspec": {
      "name": "python3",
      "display_name": "Python 3"
    },
    "language_info": {
      "name": "python"
    }
  },
  "cells": [
    {
      "cell_type": "markdown",
      "source": [
        "# The Example Of PCA\n",
        "omid sotooni"
      ],
      "metadata": {
        "id": "zLdTaaJdbq41"
      }
    },
    {
      "cell_type": "markdown",
      "source": [
        "## Import Libraries"
      ],
      "metadata": {
        "id": "TKLmm2ijbzYu"
      }
    },
    {
      "cell_type": "code",
      "source": [
        "import numpy as np\n",
        "import matplotlib.pyplot as plt\n",
        "from operator import itemgetter"
      ],
      "metadata": {
        "id": "Mqxpc_4ebyiZ"
      },
      "execution_count": null,
      "outputs": []
    },
    {
      "cell_type": "markdown",
      "source": [
        "# PCA Code"
      ],
      "metadata": {
        "id": "aZarQcjlcD-q"
      }
    },
    {
      "cell_type": "code",
      "source": [
        "#Generate a dummy dataset.\n",
        "X = np.array([(1, 2, 11), (3, 0, 5), (6, 1, 9), (4, 2, 1), (10, 3, 6)])\n",
        "X_shape = X.shape\n",
        "# mean Centering the data\n",
        "CenteringTheData =  np.mean(X , axis = 0)\n",
        "X_meaned = X - np.mean(X , axis = 0)\n",
        "# calculating the covariance matrix of the mean-centered data.\n",
        "cov_mat = np.cov(X_meaned , rowvar = False)\n",
        "#Calculating Eigenvalues and Eigenvectors of the covariance matrix\n",
        "eigen_values , eigen_vectors = np.linalg.eigh(cov_mat)\n",
        "#sort the eigenvalues in descending order\n",
        "sorted_index = np.argsort(eigen_values)[::-1]\n",
        "sorted_eigenvalue = eigen_values[sorted_index]\n",
        "#similarly sort the eigenvectors\n",
        "sorted_eigenvectors = eigen_vectors[:,sorted_index]\n",
        "# select the first n eigenvectors, n is desired dimension\n",
        "# of our final reduced data.\n",
        "n_components = 2 #you can select any number of components.\n",
        "eigenvector_subset = sorted_eigenvectors[:,0:n_components]\n",
        "# Reduced The Data\n",
        "X_reduced_Without_Transform = np.dot(eigenvector_subset.transpose(),X_meaned.transpose())\n",
        "#Transform the data\n",
        "X_reduced_Transform = np.dot(eigenvector_subset.transpose(),X_meaned.transpose()).transpose()"
      ],
      "metadata": {
        "id": "iflu8sy2OBn2"
      },
      "execution_count": null,
      "outputs": []
    },
    {
      "cell_type": "markdown",
      "source": [
        "# Resuls"
      ],
      "metadata": {
        "id": "eU8F0EjMo1wb"
      }
    },
    {
      "cell_type": "code",
      "source": [
        "#--------------- Results\n",
        "print(\"---------Resuls of DateSet By PCA---------\")\n",
        "print(\"DataSet: \\n\", X)\n",
        "print(\"________\\nThe Shape Of DataSet: \", X_shape)\n",
        "print(\"________\\nCentering The Data: \\n\", CenteringTheData)\n",
        "print(\"________\\nCovariance Matrix Mean-Centered Data: \\n\", cov_mat)\n",
        "print(\"________\\nEigen Vectors: \\n\", eigen_vectors)\n",
        "print(\"________\\nEigen Values: \\n\", eigen_values)\n",
        "print(\"________\\nSort the Eigen Vectors in descending order: \\n\", sorted_eigenvectors)\n",
        "print(\"________\\nSort the Eigen Values in descending order: \\n\", sorted_eigenvalue)\n",
        "print(\"________\\nReduced Eigen Vectors: \\n\", eigenvector_subset)\n",
        "print(\"________\\nReduced The DataSet Without Transform: \\n\", X_reduced_Without_Transform)\n",
        "print(\"________\\nTransform The DataSet: \\n\", X_reduced_Transform)"
      ],
      "metadata": {
        "colab": {
          "base_uri": "https://localhost:8080/"
        },
        "id": "dR0trppmc5rf",
        "outputId": "ab908b24-82aa-405e-93ff-df0391f66028"
      },
      "execution_count": null,
      "outputs": [
        {
          "output_type": "stream",
          "name": "stdout",
          "text": [
            "---------Resuls of DateSet By PCA---------\n",
            "DataSet: \n",
            " [[ 1  2 11]\n",
            " [ 3  0  5]\n",
            " [ 6  1  9]\n",
            " [ 4  2  1]\n",
            " [10  3  6]]\n",
            "________\n",
            "The Shape Of DataSet:  (5, 3)\n",
            "________\n",
            "Centering The Data: \n",
            " [4.8 1.6 6.4]\n",
            "________\n",
            "Covariance Matrix Mean-Centered Data: \n",
            " [[11.7   1.9  -2.4 ]\n",
            " [ 1.9   1.3  -0.05]\n",
            " [-2.4  -0.05 14.8 ]]\n",
            "________\n",
            "Eigen Vectors: \n",
            " [[-0.18002093 -0.85083203 -0.49363684]\n",
            " [ 0.98327403 -0.16975731 -0.06598969]\n",
            " [-0.02765232 -0.4972598   0.86716091]]\n",
            "________\n",
            "Eigen Values: \n",
            " [ 0.95354811 10.67643177 16.17002012]\n",
            "________\n",
            "Sort the Eigen Vectors in descending order: \n",
            " [[-0.49363684 -0.85083203 -0.18002093]\n",
            " [-0.06598969 -0.16975731  0.98327403]\n",
            " [ 0.86716091 -0.4972598  -0.02765232]]\n",
            "________\n",
            "Sort the Eigen Values in descending order: \n",
            " [16.17002012 10.67643177  0.95354811]\n",
            "________\n",
            "Reduced Eigen Vectors: \n",
            " [[-0.49363684 -0.85083203]\n",
            " [-0.06598969 -0.16975731]\n",
            " [ 0.86716091 -0.4972598 ]]\n",
            "________\n",
            "Reduced The DataSet Without Transform: \n",
            " [[ 5.83836426 -0.21989546  1.70184797 -4.3141553  -3.00616147]\n",
            " [ 0.87786368  2.49927308 -2.21201954  3.29796564 -4.46308287]]\n",
            "________\n",
            "Transform The DataSet: \n",
            " [[ 5.83836426  0.87786368]\n",
            " [-0.21989546  2.49927308]\n",
            " [ 1.70184797 -2.21201954]\n",
            " [-4.3141553   3.29796564]\n",
            " [-3.00616147 -4.46308287]]\n"
          ]
        }
      ]
    },
    {
      "cell_type": "markdown",
      "source": [
        "# Plot The Point"
      ],
      "metadata": {
        "id": "rgag7fsTpAqP"
      }
    },
    {
      "cell_type": "code",
      "source": [
        "#--------------- Plot the points\n",
        "x = list(map(itemgetter(0), X_reduced_Transform))\n",
        "y = list(map(itemgetter(1), X_reduced_Transform))\n",
        "plt.scatter(x, y)\n",
        "plt.show()"
      ],
      "metadata": {
        "colab": {
          "base_uri": "https://localhost:8080/",
          "height": 265
        },
        "id": "tHQC7lUPODdq",
        "outputId": "1c92ea3c-bab5-4dca-b75d-52e5f35d3b8d"
      },
      "execution_count": null,
      "outputs": [
        {
          "output_type": "display_data",
          "data": {
            "text/plain": [
              "<Figure size 432x288 with 1 Axes>"
            ],
            "image/png": "[encoded data removed]"
          },
          "metadata": {
            "needs_background": "light"
          }
        }
      ]
    }
  ]
}